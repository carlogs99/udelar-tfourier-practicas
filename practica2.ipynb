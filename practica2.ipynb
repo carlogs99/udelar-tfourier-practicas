{
 "cells": [
  {
   "cell_type": "markdown",
   "metadata": {},
   "source": [
    "# Taller Fourier EDM - Clasificación de cargas de electrodomésticos"
   ]
  },
  {
   "cell_type": "markdown",
   "metadata": {},
   "source": [
    "## Práctica 2 - Adquisición y análisis de señales con la tarjeta Analog Discovery 2\n",
    "\n",
    "### Objetivos:\n",
    "En esta práctica se busca familiarizarse con la tarjeta Analog Discovery 2 y realizar la adquisición de señales mediante el software WaveForms y programas en python.\n",
    "\n",
    "### Actividades\n",
    "1. Familiarizarse con el software WaveForms\n",
    "1. Usar y programar funciones de adquisición para la tarjeta Analog Discovery 2\n",
    "1. Adquirir, guardar y graficar señales\n",
    "\n",
    "\n",
    "### Materiales\n",
    "\n",
    "Software WaveForms y SDK  \n",
    "https://reference.digilentinc.com/reference/software/waveforms/waveforms-3/start    \n",
    "https://reference.digilentinc.com/_media/waveforms_sdk_reference_manual.pdf\n",
    "\n",
    "\n"
   ]
  },
  {
   "cell_type": "markdown",
   "metadata": {},
   "source": [
    "### Trabajo a realizar\n",
    "\n",
    "A lo largo del notebook encontrarán las siguientes palabras claves:\n",
    "\n",
    "* \\# COMPLETAR  -> indica que se requiere completar el código. \n",
    "  \n",
    "  \n",
    "* \\# EXPERIMENTAR -> realizar experimentos y mostrar resultados\n",
    "  \n",
    "  \n",
    "* \\# DISCUTIR -> se espera una discusión de los experimentos realizados y/o de las preguntas formuladas\n",
    "  \n",
    "  \n",
    "* \\# RESPONDER -> se espera una respuesta a preguntas concretas"
   ]
  },
  {
   "cell_type": "code",
   "execution_count": 22,
   "metadata": {},
   "outputs": [],
   "source": [
    "import os\n",
    "import sys\n",
    "import numpy as np\n",
    "from scipy.fftpack import fft, fftshift, ifft\n",
    "from scipy.signal import spectrogram\n",
    "import matplotlib.pyplot as plt\n",
    "\n",
    "#estilo de las gráficas\n",
    "plt.style.use('ggplot')\n",
    "\n",
    "\n",
    "# graficas en línea  entre las celdas\n",
    "#%matplotlib inline \n",
    "# graficas en línea  entre las celdas con pan/zoom\n",
    "%matplotlib notebook\n",
    "# graficas en ventanas externas\n",
    "# %matplotlib\n",
    "\n"
   ]
  },
  {
   "cell_type": "code",
   "execution_count": 51,
   "metadata": {},
   "outputs": [],
   "source": [
    "###Funciones de carga de datos de la Parte 1\n",
    "\n",
    "def cargar_VI_por_ciclos(nombre_archivo, \n",
    "                         frecuencia_muestreo=30000,\n",
    "                         frecuencia_linea=60,\n",
    "                         ciclos_a_cargar=1e100,  #por defecto se cargan todos los ciclos posibles\n",
    "                         ciclos_a_saltear=0):    #por defecto se carga desde el inicio\n",
    "    '''\n",
    "    Carga un cierto numero de ciclos de una señal I,V guardada en un archivo\n",
    "    Devuelve las señales I y V como  2 arrays Nx1\n",
    "    \n",
    "    Importante: se debe asegurar que se carga un número entero de ciclos (el número final\n",
    "    de ciclos cargados podría eventualmente ser menor a 'ciclos_a_cargar')\n",
    "    '''\n",
    "    \n",
    "    # COMPLETADO\n",
    "    I = np.genfromtxt(nombre_archivo, delimiter=',', skip_header=1)[:, 0:1].flatten()\n",
    "    V = np.genfromtxt(nombre_archivo, delimiter=',', skip_header=1)[:, 1:2].flatten()\n",
    "    \n",
    "    muestras_por_ciclo = int(frecuencia_muestreo/frecuencia_linea)\n",
    "    cantidad_ciclos_completos = int(len(I)/muestras_por_ciclo)\n",
    "    \n",
    "    muestra_inicial = int(ciclos_a_saltear*muestras_por_ciclo)\n",
    "    muestra_final = min(muestra_inicial + int(ciclos_a_cargar*muestras_por_ciclo), cantidad_ciclos_completos*muestras_por_ciclo)\n",
    "            \n",
    "    I = I[muestra_inicial:muestra_final]\n",
    "    V = V[muestra_inicial:muestra_final]    \n",
    "    \n",
    "    return I,V\n",
    "\n",
    "\n",
    "def generar_vector_tiempo(numero_muestras, frecuencia_muestreo=30000):\n",
    "    '''\n",
    "    Genera un vector de tiempo del largo solicitado\n",
    "    '''\n",
    "    duracion = (numero_muestras-1)/frecuencia_muestreo   #duración de la señal en segundos\n",
    "    vector_tiempo = np.linspace(0,duracion,numero_muestras)\n",
    "    \n",
    "    return vector_tiempo\n",
    "\n",
    "\n",
    "def graficar_I_V(I, V, frecuencia_muestreo=30000, fignum=None, color = 'g'):\n",
    "    '''\n",
    "    Genera un vector de tiempos T adecuado y grafica por separado\n",
    "    las señales de corriente I(T) y voltaje V(T) que se le pasan.\n",
    "    Se supone que I y V son de igual largo\n",
    "    \n",
    "    Si se le pasa un fignum, grafica I sobre la figura (fignum) y V sobre la \n",
    "    figura (fignum+1). De lo contrario crea dos figuras nuevas.\n",
    "    '''\n",
    "    \n",
    "    T = generar_vector_tiempo(len(I), frecuencia_muestreo)\n",
    "    \n",
    "    # COMPLETADO\n",
    "    \n",
    "    #Grafica corrientes\n",
    "    plt.figure(fignum)\n",
    "    plt.plot(T, I, color)\n",
    "    plt.title(\"$I = f(t)$\")\n",
    "    plt.xlabel(\"Tiempo $t$\")\n",
    "    plt.ylabel(\"Corriente $I$\")\n",
    "    \n",
    "    #Grafica voltajes\n",
    "    if(fignum == None):\n",
    "        plt.figure()\n",
    "    else:\n",
    "        plt.figure(fignum + 1)\n",
    "    plt.plot(T, V, color)\n",
    "    plt.title(\"$V = f(t)$\")\n",
    "    plt.xlabel(\"Tiempo $t$\")\n",
    "    plt.ylabel(\"Voltaje $V$\")\n",
    "    \n",
    "def graficar_diagrama_VI(I, V, fignum=None):\n",
    "    '''\n",
    "    Grafica I vs. V \n",
    "    \n",
    "    Si se le pasa un fignum, grafica el diagrama sobre la \n",
    "    figura (fignum). De lo contrario crea una figuras nueva.\n",
    "    '''\n",
    "    if not fignum is None:\n",
    "        plt.figure(fignum)\n",
    "    else:\n",
    "        plt.figure()\n",
    "        \n",
    "    plt.plot(V,I,'.-')\n",
    "    plt.title('Diagrama V-I')\n",
    "    plt.xlabel('V')\n",
    "    plt.ylabel('I')\n",
    "\n",
    "###Funciones de análisis en frecuencia de la Parte 1\n",
    "\n",
    "def generar_vector_frecuencia(numero_muestras, frecuencia_muestreo=30000, centrar_frecuencia=True):\n",
    "    '''\n",
    "    Genera un vector de frecuencias del largo especificado\n",
    "    If centrar_frecuencia==True (por defecto)\n",
    "        salida es un array   [-Fm/2.....Fm/2-Fm/numero_muestras]\n",
    "    else\n",
    "        salida es un array   [0.....Fm-Fm/numero_muestras]\n",
    "    '''\n",
    "    step_frecuencia = frecuencia_muestreo/numero_muestras \n",
    "    vector_frecuencia = np.arange(0,frecuencia_muestreo,step_frecuencia)\n",
    "    if centrar_frecuencia:\n",
    "        vector_frecuencia = vector_frecuencia - frecuencia_muestreo/2\n",
    "    \n",
    "    return vector_frecuencia\n",
    "\n",
    "\n",
    "def graficar_FI_FV(I,V, frecuencia_muestreo=30000, centrar_frecuencia=True, fignum=None):\n",
    "    '''\n",
    "    Genera un vector de frecuencia adecuado.\n",
    "    Grafica el modulo de la transformada de I y de V en figuras separadas\n",
    "    \n",
    "    Si se le pasa un fignum, grafica FI sobre la figura (fignum) y FV sobre la \n",
    "    figura (fignum+1). De lo contrario crea dos figuras nuevas.\n",
    "    '''\n",
    "    numero_muestras = len(I)\n",
    "    vector_frecuencia = generar_vector_frecuencia(numero_muestras, frecuencia_muestreo, centrar_frecuencia)\n",
    "    \n",
    "    # COMPLETADO\n",
    "    \n",
    "    \n",
    "    #Grafica corrientes\n",
    "    plt.figure(fignum)\n",
    "    if centrar_frecuencia:\n",
    "        plt.plot(vector_frecuencia, np.abs(fftshift(fft(I))), 'r')\n",
    "    else:\n",
    "        plt.plot(vector_frecuencia, np.abs(fft(I)), 'r')\n",
    "        \n",
    "    plt.title(\"$abs(fft(I)) = f(f)$\")\n",
    "    plt.xlabel(\"Frecuencia $f$\")\n",
    "    plt.ylabel(\"$fft(I)$\")\n",
    "    \n",
    "    #Grafica voltajes\n",
    "    if(fignum == None):\n",
    "        plt.figure()\n",
    "    else:\n",
    "        plt.figure(fignum + 1)\n",
    "        \n",
    "    if centrar_frecuencia:\n",
    "        plt.plot(vector_frecuencia, np.abs(fftshift(fft(V))), 'r')\n",
    "    else:\n",
    "        plt.plot(vector_frecuencia, np.abs(fft(V)), 'r')\n",
    "        \n",
    "    plt.title(\"$abs(fft(V)) = f(f)$\")\n",
    "    plt.xlabel(\"Frecuencia $f$\")\n",
    "    plt.ylabel(\"$fft(V)$\")\n",
    "    \n",
    "    \n",
    "\n",
    "def graficar_espectrograma_I_V(I,V, frecuencia_muestreo=30000, largo_ventana=256, fignum=None):\n",
    "    '''\n",
    "    Grafica el espectrograma de I y de V en figuras separadas\n",
    "    \n",
    "    Si se le pasa un fignum, grafica el espectrograma de I sobre la figura (fignum)\n",
    "    y el de V sobre la figura (fignum+1). De lo contrario crea dos figuras nuevas.\n",
    "    '''\n",
    "    f,t,SI = spectrogram(I,fs=frecuencia_muestreo, nperseg=largo_ventana)\n",
    "    f,t,SV = spectrogram(V,fs=frecuencia_muestreo, nperseg=largo_ventana)\n",
    "    \n",
    "    \n",
    "    if not fignum is None:\n",
    "        plt.figure(fignum)\n",
    "    else:\n",
    "        plt.figure()\n",
    "    \n",
    "    plt.pcolormesh(t, f, SI)\n",
    "    plt.title('Espectrograma de I')\n",
    "    plt.ylabel('Frecuencia [Hz]')\n",
    "    plt.xlabel('Tiempo [s]')\n",
    "    \n",
    "    if not fignum is None:\n",
    "        plt.figure(fignum)\n",
    "    else:\n",
    "        plt.figure()\n",
    "    \n",
    "    plt.pcolormesh(t, f, SV)\n",
    "    plt.title('Espectrograma de V')\n",
    "    plt.ylabel('Frecuencia [Hz]')\n",
    "    plt.xlabel('Tiempo [s]')"
   ]
  },
  {
   "cell_type": "code",
   "execution_count": 3,
   "metadata": {},
   "outputs": [],
   "source": [
    "### Para la parte 3\n",
    "from ctypes import *\n",
    "from funciones.dwfconstants import *\n",
    "import time"
   ]
  },
  {
   "cell_type": "markdown",
   "metadata": {},
   "source": [
    "## Parte 1 - Uso del software WaveForms  \n",
    "Esta parte de la práctica no requiere la realización de código en este notebook.   \n",
    "Realizar las pruebas con la tarjeta AD2 y el software WaveForms. Comentar y agregar imágenes en el notebook o en  otro documento de los experimentos realizados."
   ]
  },
  {
   "cell_type": "markdown",
   "metadata": {},
   "source": [
    "### 1.1 Conectar generador y osciloscopio de la tarjeta AD2 y analizar señales"
   ]
  },
  {
   "cell_type": "markdown",
   "metadata": {},
   "source": [
    "#### 1.1.1 Analizar señales del generador (sinusoide, onda cuadrada, onda triangular, rampa)\n"
   ]
  },
  {
   "cell_type": "markdown",
   "metadata": {},
   "source": [
    "# EXPERIMENTAR   \n",
    "Generar señales de 50 Hz y analizar con FFT y Espectrograma."
   ]
  },
  {
   "cell_type": "code",
   "execution_count": 1,
   "metadata": {},
   "outputs": [],
   "source": [
    "###Además de lo pedido, probamos analizar con las funciones que creamos en la Práctica 1\n",
    "\n",
    "## Experimentamos con las funciones de la Práctica 1\n",
    "\n",
    "#T, V = cargar_VI_por_ciclos('./relevadas/OscilosopioSin50Hz4000SR.csv', frecuencia_muestreo=4000, frecuencia_linea=50)\n",
    "#graficar_FI_FV(T, V, frecuencia_muestreo=4000)\n",
    "\n",
    "#T, V = cargar_VI_por_ciclos('./relevadas/OscilosopioSin50Hz.csv', frecuencia_muestreo=400000, frecuencia_linea=50)\n",
    "#graficar_FI_FV(T, V, frecuencia_muestreo=400000)\n",
    "\n",
    "#graficar_diagrama_VI(V,T)\n",
    "\n",
    "#print(T,V)\n",
    "\n",
    "## Experimentamos con las herramientas del GUI Waveforms"
   ]
  },
  {
   "cell_type": "markdown",
   "metadata": {},
   "source": [
    "# EXPERIMENTAR y RESPONDER    \n",
    "\n",
    "### Para la FFT:\n",
    "\n",
    "* Qué separación hay entre muestras en frecuencia? Justifique.\n",
    "##### La separación entre muestras es la frecuencia de muestreo divida la cantidad de muestras. Exportando datos desde el WaveForms siempre sacamos una cantidad fija de muestras, pero dependiendo la escala del eje horizontal podemos variar la frecuencia de muestreo. En los ejemplos de arriba, tenemos separación entre muestras de 0,5 y 50 Hz respectivamente.\n",
    "\n",
    "\n",
    "* Para la señal sinusoidal, ¿por qué no se ve la FFT exactamente como una delta?\n",
    "##### Por un lado, esto es porque las señales analizadas tienen ruido de altas frecuencias que se mezclan con la potencia de la señal. Por otro lado, al enventanar en el tiempo, se deforma el espectro de la señal en frecuencia, nunca podremos ver exactamente una delta, dado que precisaríamos infinitas muestras en el tiempo.\n",
    "\n",
    "\n",
    "* Para la señal sinusoidal, experimente con distintas ventanas (rectangular, hamming, hann, flat-top). ¿Cómo afecta la ventana elegida a la FFT?\n",
    "##### Como no se puede analizar la señal en tiempo infinito, se recorta una parte de la señal en el tiempo con una \"ventana\". Como la señal en el tiempo queda el producto de la señal original con la ventana, en frecuencia tenemos una convolución de sus FFT. Por ende, el \"tipo\" de ventana que se use definirá la FFT de la misma y como se deforma el espectro de la señal original. Por ejemplo, con la ventana Hamming vemos más lóbulos, mientras que con la rectangular vemos que la delta decae mas \"suavemente\". Sin embargo, con la ventana Hamming tenemos mucho más atenuación a altas frecuencias.\n",
    "\n",
    "![Ventana rectangular](./relevadas/Rectangular.png \"Ventana rectangular\")\n",
    "![Ventana flattop](./relevadas/FlatTop.png \"Ventana flattop\")\n",
    "\n",
    "\n",
    "* Para las señales onda cuadrada y onda triangular, en qué caso decaen los componentes más rápido al aumentar la frecuencia? Por qué ?\n",
    "##### Observamos que la ventana que más rápido hace decaer a los espectros en ambos casos es la de Blackman-Harris, sin embargo, tiene más lóbulos que otras ventanas en altas frecuencias. Para la señal triangular, notamos el peor desempeño con la ventana rectangular. También notamos que con la señal rectangular, es más dificil lograr un buen enventanado, ya que tiene muchos componentes de alta frecuencia causados por las discontinuidades. \n",
    "\n",
    "\n",
    "* Para las señales onda triangular y rampa, qué componentes armónicos observa? ¿Por qué se da esa diferencia?\n",
    "##### Notamos que la rampa tiene muchos más armónicos de alta frecuencia, lo cual es esperable dada las discontinuidades de esta señal, que se interpretan como armónicos de muy alta frecuencia (es un salto casi instantáneo en el tiempo). \n",
    "\n",
    "\n",
    "### Para el Espectrograma:\n",
    "\n",
    "* Para la onda cuadrada, experimente con distinta resoluciones. De qué manera afecta la resolución al cálculo del espectrograma? Qué observa ?\n",
    "##### Si la resolución es demasiado chica, no se nota diferenciar en el espectrograma los cambios en el espectro que ocurren a medida que pasa el tiempo. Si en cambio es demasiado grande, la ventana en el tiempo quizás no llega a abarcar un ciclo completo de la señal y por ende el espectrograma no es representativo de la señal. \n"
   ]
  },
  {
   "cell_type": "markdown",
   "metadata": {
    "collapsed": true
   },
   "source": []
  },
  {
   "cell_type": "markdown",
   "metadata": {},
   "source": [
    "#### 1.1.2 Analizar señales de la base PLAID"
   ]
  },
  {
   "cell_type": "markdown",
   "metadata": {},
   "source": [
    "# EXPERIMENTAR   \n",
    "\n",
    "Importar señales de distintos electrodomésticos de la base PLAID y analizar"
   ]
  },
  {
   "cell_type": "markdown",
   "metadata": {
    "collapsed": true
   },
   "source": [
    "##### En esta parte, importamos señales del PLAID al Waveforms usando Scope>File>Import, seteando Sample rate = 30kHz. \n",
    "\n",
    "##### Veamos por ejemplo el electrodoméstico ID 10, que sabemos es un microondas:\n",
    "\n",
    "![Voltaje ID=10 (Microwave)](./VoltajeID=10(Microwave).png \"Voltaje ID=10 (Microwave)\")\n",
    "\n",
    "![Corriente ID=10 (Microwave)](./CorrienteID=10(Microwave).png \"Corriente ID=10 (Microwave)\")\n",
    "\n",
    "##### Vemos que el voltajetiene espectro aproximademente constante (esperable dado que es el voltaje de línea, sinusoidal), mientras que el espectro de la corriente varía con el tiempo. Esto coincide con lo visto en la práctica 1, dónde discutimos que estos comportamientos transitorios en por ejemplo el microondas podrían deberse a distintas partes del ciclo de operación del mismo (encendido del motor, etc.).  \n",
    "\n",
    "##### Comparamos esto con el espectrograma de una lámpara incandecente (ID 57):\n",
    "\n",
    "![CorrienteID=57(Incandescent Light Bulb)](./CorrienteID=57(IncandescentLightBulb).png \"CorrienteID=57(Incandescent Light Bulb)\")\n",
    "\n",
    "##### Vemos que el espectro es casi constante, esperable para un elemento resistivo, cuya corriente es una señal sinusoidal. "
   ]
  },
  {
   "cell_type": "markdown",
   "metadata": {},
   "source": [
    "## Parte 2 - Uso de los programas del SDK de WaveForms\n",
    "Esta parte de la práctica no requiere la realización de código en este notebook.   \n",
    "Realizar las pruebas con la tarjeta AD2 y los programas de ejemplo del SDK. Comentar y agregar imágenes en el notebook o en  otro documento de los experimentos realizados."
   ]
  },
  {
   "cell_type": "markdown",
   "metadata": {},
   "source": [
    "### 2.1 Usar el programa de ejemplo AnalogIn_Record.py para adquirir una sinusoide"
   ]
  },
  {
   "cell_type": "markdown",
   "metadata": {},
   "source": [
    "#### 2.1.1 Analizar el código. Agregar al código comentarios que indiquen qué se realiza en cada parte."
   ]
  },
  {
   "cell_type": "markdown",
   "metadata": {},
   "source": [
    "# EXPERIMENTAR\n",
    "\n",
    "#####  Adjunto en el zip se encuentra el código con comentarios, en ./funciones/AnalogIn_Record.py"
   ]
  },
  {
   "cell_type": "markdown",
   "metadata": {},
   "source": [
    "#### 2.1.2 Ejecutar el ejemplo"
   ]
  },
  {
   "cell_type": "markdown",
   "metadata": {},
   "source": [
    "# EXPERIMENTAR\n",
    "\n",
    "##### El resultado de la ejecución se ve en la siguiente imágen:\n",
    "\n",
    "![AnalogIn_Record](./funciones/AnalogIn_Record.jpg \"AnalogIn_Record\")\n",
    "\n",
    "##### Vemos que el resultado es el esperado: El generador de ondas emite un seno que el osciloscopio lee, registra y luego grafica."
   ]
  },
  {
   "cell_type": "markdown",
   "metadata": {},
   "source": [
    "## Parte 3 - Adaptar el programa de la parte 2 al notebook"
   ]
  },
  {
   "cell_type": "markdown",
   "metadata": {},
   "source": [
    "### 3.1 Completar la funcion de adquisición de un canal\n",
    "\n",
    "Partiendo del ejemplo AnalogIn_Record.py del SDK de la tarjeta, crear una función que adquiera la señal conectada al primer canal (CH0) del osciloscopio.   \n",
    "\n",
    "Comentar adecuadamente las partes del código (similar a 2.1.1)"
   ]
  },
  {
   "cell_type": "code",
   "execution_count": null,
   "metadata": {
    "collapsed": true
   },
   "outputs": [],
   "source": [
    "from ctypes import *\n",
    "import math\n",
    "import time\n",
    "import numpy as np\n",
    "\n",
    "##Se agregó un parámetro \"canal\" para realizar la siguiente parte.\n",
    "##Usandolo se especifíca que canal de osciloscopio se quiere usar.\n",
    "## canal=0 <--> ch0 // canal=1 <--> ch1\n",
    "def adquirir_un_canal(cantidad_de_muestras, frecuencia_de_muestreo = 25000, \n",
    "                     rango_canal = 10,\n",
    "                     canal = 0,\n",
    "                     generar_sinusoide=False):\n",
    "    '''\n",
    "    Adquiere la señal conectada al canal ch0 del osciloscopio.\n",
    "    \n",
    "    Opcionalmente genera una sinusoide por el primer canal del generador de señales por \n",
    "    si se quiere enviar esta señal al osciloscopio.\n",
    "    \n",
    "    Devuelve las muestras adquiridas como un array de numpy.\n",
    "    '''\n",
    "    \n",
    "    # COMPLETAR\n",
    "    \n",
    "    ###Se fija en que sistema operativo se está corriendo\n",
    "    if sys.platform.startswith(\"win\"):\n",
    "        dwf = cdll.dwf\n",
    "    elif sys.platform.startswith(\"darwin\"):\n",
    "        dwf = cdll.LoadLibrary(\"/Library/Frameworks/dwf.framework/dwf\")\n",
    "    else:\n",
    "        dwf = cdll.LoadLibrary(\"libdwf.so\")\n",
    "\n",
    "    ###Crea variables compatibles con C para poder comunicarse con el AD2\n",
    "    hdwf = c_int()\n",
    "    sts = c_byte()\n",
    "    hzAcq = c_double(frecuencia_de_muestreo)\n",
    "    nSamples = cantidad_de_muestras\n",
    "    rgdSamples = (c_double*nSamples)()\n",
    "    cAvailable = c_int()\n",
    "    cLost = c_int()\n",
    "    cCorrupted = c_int()\n",
    "    fLost = 0\n",
    "    fCorrupted = 0\n",
    "\n",
    "    ###Imprime la version de DWF\n",
    "    version = create_string_buffer(16)\n",
    "    dwf.FDwfGetVersion(version)\n",
    "    print(\"DWF Version: \"+str(version.value))\n",
    "\n",
    "    ###Se conecta con el AD2\n",
    "    print(\"Opening first device\")\n",
    "    dwf.FDwfDeviceOpen(c_int(-1), byref(hdwf))\n",
    "\n",
    "    ###Try/Catch de que se haya conectado bien\n",
    "    if hdwf.value == hdwfNone.value:\n",
    "        szerr = create_string_buffer(512)\n",
    "        dwf.FDwfGetLastErrorMsg(szerr)\n",
    "        print(str(szerr.value))\n",
    "        print(\"failed to open device\")\n",
    "        quit()\n",
    "\n",
    "    ###Se genera un seno\n",
    "    if(generar_sinusoide):\n",
    "        print(\"Generating sine wave...\")\n",
    "        dwf.FDwfAnalogOutNodeEnableSet(hdwf, c_int(0), AnalogOutNodeCarrier, c_bool(True))\n",
    "        dwf.FDwfAnalogOutNodeFunctionSet(hdwf, c_int(0), AnalogOutNodeCarrier, funcSine)\n",
    "        dwf.FDwfAnalogOutNodeFrequencySet(hdwf, c_int(0), AnalogOutNodeCarrier, c_double(1))\n",
    "        dwf.FDwfAnalogOutNodeAmplitudeSet(hdwf, c_int(0), AnalogOutNodeCarrier, c_double(2))\n",
    "        dwf.FDwfAnalogOutConfigure(hdwf, c_int(0), c_bool(True))\n",
    "\n",
    "    ###Se configura el canal de adquisición de muestras\n",
    "    #Habilita el ch0 del osciloscopio (c_int(0))\n",
    "    dwf.FDwfAnalogInChannelEnableSet(hdwf, c_int(canal), c_bool(True))\n",
    "    #Setea el rango del canal a +-5V\n",
    "    dwf.FDwfAnalogInChannelRangeSet(hdwf, c_int(canal), c_double(rango_canal))\n",
    "    #Configura el ch0 para adquirir en modo: por periodo de tiempo configurado\n",
    "    dwf.FDwfAnalogInAcquisitionModeSet(hdwf, acqmodeRecord)\n",
    "    #Setea la frecuencia de muestreo\n",
    "    dwf.FDwfAnalogInFrequencySet(hdwf, hzAcq)\n",
    "    #Setea largo de tiempo a adquirir\n",
    "    dwf.FDwfAnalogInRecordLengthSet(hdwf, c_double(nSamples/hzAcq.value)) # -1 infinite record length\n",
    "\n",
    "    #wait at least 2 seconds for the offset to stabilize\n",
    "    time.sleep(2)\n",
    "\n",
    "    print(\"Starting oscilloscope\")\n",
    "    dwf.FDwfAnalogInConfigure(hdwf, c_int(0), c_int(1))\n",
    "\n",
    "    cSamples = 0\n",
    "\n",
    "    ###Se toman las muestras\n",
    "    while cSamples < nSamples:\n",
    "        dwf.FDwfAnalogInStatus(hdwf, c_int(1), byref(sts))\n",
    "        if cSamples == 0 and (sts == DwfStateConfig or sts == DwfStatePrefill or sts == DwfStateArmed) :\n",
    "            # Acquisition not yet started.\n",
    "            continue\n",
    "\n",
    "        dwf.FDwfAnalogInStatusRecord(hdwf, byref(cAvailable), byref(cLost), byref(cCorrupted))\n",
    "\n",
    "        cSamples += cLost.value\n",
    "\n",
    "        if cLost.value :\n",
    "            fLost = 1\n",
    "        if cCorrupted.value :\n",
    "            fCorrupted = 1\n",
    "\n",
    "        if cAvailable.value == 0 :\n",
    "            continue\n",
    "\n",
    "        if cSamples + cAvailable.value > nSamples :\n",
    "            cAvailable = c_int(nSamples-cSamples)\n",
    "\n",
    "        dwf.FDwfAnalogInStatusData(hdwf, c_int(canal), byref(rgdSamples, sizeof(c_double)*cSamples), cAvailable) # get channel 1 data\n",
    "        cSamples += cAvailable.value\n",
    "\n",
    "    dwf.FDwfAnalogOutReset(hdwf, c_int(canal))\n",
    "    dwf.FDwfDeviceCloseAll()\n",
    "\n",
    "    print(\"Recording done\")\n",
    "    if fLost:\n",
    "        print(\"Samples were lost! Reduce frequency\")\n",
    "    if fCorrupted:\n",
    "        print(\"Samples could be corrupted! Reduce frequency\")\n",
    "    \n",
    "    muestras = np.fromiter(rgdSamples, dtype = np.float)    \n",
    "    return muestras"
   ]
  },
  {
   "cell_type": "code",
   "execution_count": null,
   "metadata": {
    "collapsed": true
   },
   "outputs": [],
   "source": [
    "# EXPERIMENTAR\n",
    "# conectar el primer generador de la AD2 al primer canal del osciloscopio de la AD2 y adquirir\n",
    "\n",
    "cantidad_de_muestras = 50000\n",
    "generar_sin = True\n",
    "\n",
    "muestras = adquirir_un_canal(cantidad_de_muestras, generar_sinusoide=generar_sin)\n",
    "print(muestras.shape)\n",
    "\n",
    "# guardar a archivo\n",
    "np.savetxt('ADQUISICION_UN_CANAL.csv', muestras )\n",
    "\n",
    "#graficar\n",
    "plt.figure()\n",
    "plt.plot(muestras,'b.-')\n",
    "plt.show()"
   ]
  },
  {
   "cell_type": "code",
   "execution_count": null,
   "metadata": {
    "collapsed": true
   },
   "outputs": [],
   "source": []
  },
  {
   "cell_type": "markdown",
   "metadata": {},
   "source": [
    "### 3.2 Modificar la función de la parte anterior para poder adquirir de dos canales\n",
    "\n",
    "Modificar la función de la parte 3.1 para adquirir de los dos canales del osciloscopio.\n"
   ]
  },
  {
   "cell_type": "code",
   "execution_count": null,
   "metadata": {
    "collapsed": true
   },
   "outputs": [],
   "source": [
    "def adquirir_dos_canales(cantidad_de_muestras, frecuencia_de_muestreo=25000, \n",
    "                         rango_canal_0=10, rango_canal_1=10,\n",
    "                         generar_sinusoide=False):\n",
    "    '''\n",
    "    Adquiere las señales conectadas a los canales ch0 y ch1 del osciloscopio.\n",
    "    \n",
    "    Opcionalmente genera una sinusoide por el primer canal del generador de señales por \n",
    "    si se quiere enviar esta señal al osciloscopio.\n",
    "    \n",
    "    Devuelve las muestras adquiridas como dos arrays de numpy.\n",
    "    '''\n",
    "    \n",
    "    # COMPLETAR\n",
    "    muestras_ch0 = adquirir_un_canal(cantidad_de_muestras=cantidad_de_muestras, frecuencia_de_muestreo=frecuencia_de_muestreo, \n",
    "                     rango_canal=rango_canal_0,\n",
    "                     canal=0,\n",
    "                     generar_sinusoide=generar_sinusoide)\n",
    "    \n",
    "    muestras_ch1 =  adquirir_un_canal(cantidad_de_muestras=cantidad_de_muestras, frecuencia_de_muestreo=frecuencia_de_muestreo, \n",
    "                     rango_canal=rango_canal_1,\n",
    "                     canal=1,\n",
    "                     generar_sinusoide=generar_sinusoide)   \n",
    "    \n",
    "    return muestras_ch0, muestras_ch1\n"
   ]
  },
  {
   "cell_type": "code",
   "execution_count": null,
   "metadata": {
    "collapsed": true
   },
   "outputs": [],
   "source": [
    "# EXPERIMENTAR \n",
    "# conectar el primer generador de la AD2 a los dos canales del osciloscopio de la AD2 y adquirir\n",
    "\n",
    "cantidad_de_muestras = 50000\n",
    "generar_sin = True\n",
    "\n",
    "muestras_ch0, muestras_ch1 = adquirir_dos_canales(cantidad_de_muestras, generar_sinusoide=generar_sin)\n",
    "print(muestras_ch0.shape, muestras_ch1.shape)\n",
    "\n",
    "\n",
    "# juntar las muestras en un sólo array de tamaño (cantidad_de_muestras x 2)\n",
    "muestras = np.vstack((muestras_ch0, muestras_ch1)).T\n",
    "print(muestras.shape)\n",
    "\n",
    "# guardar a archivo\n",
    "np.savetxt('ADQUISICION_DOS_CANALES.csv', muestras )\n",
    "\n",
    "#graficar\n",
    "plt.figure()\n",
    "plt.plot(muestras_ch0,'b', label='ch0')\n",
    "plt.plot(muestras_ch1,'r', label='ch1')\n",
    "plt.legend()\n",
    "plt.show()"
   ]
  },
  {
   "cell_type": "code",
   "execution_count": null,
   "metadata": {
    "collapsed": true
   },
   "outputs": [],
   "source": []
  }
 ],
 "metadata": {
  "kernelspec": {
   "display_name": "Python 3",
   "language": "python",
   "name": "python3"
  },
  "language_info": {
   "codemirror_mode": {
    "name": "ipython",
    "version": 3
   },
   "file_extension": ".py",
   "mimetype": "text/x-python",
   "name": "python",
   "nbconvert_exporter": "python",
   "pygments_lexer": "ipython3",
   "version": "3.8.8"
  },
  "latex_envs": {
   "LaTeX_envs_menu_present": true,
   "autoclose": false,
   "autocomplete": true,
   "bibliofile": "biblio.bib",
   "cite_by": "apalike",
   "current_citInitial": 1,
   "eqLabelWithNumbers": true,
   "eqNumInitial": 1,
   "hotkeys": {
    "equation": "Ctrl-E",
    "itemize": "Ctrl-I"
   },
   "labels_anchors": false,
   "latex_user_defs": false,
   "report_style_numbering": false,
   "user_envs_cfg": false
  },
  "toc": {
   "base_numbering": 1,
   "nav_menu": {},
   "number_sections": false,
   "sideBar": true,
   "skip_h1_title": false,
   "title_cell": "Table of Contents",
   "title_sidebar": "Contents",
   "toc_cell": false,
   "toc_position": {},
   "toc_section_display": true,
   "toc_window_display": false
  },
  "varInspector": {
   "cols": {
    "lenName": 16,
    "lenType": 16,
    "lenVar": 40
   },
   "kernels_config": {
    "python": {
     "delete_cmd_postfix": "",
     "delete_cmd_prefix": "del ",
     "library": "var_list.py",
     "varRefreshCmd": "print(var_dic_list())"
    },
    "r": {
     "delete_cmd_postfix": ") ",
     "delete_cmd_prefix": "rm(",
     "library": "var_list.r",
     "varRefreshCmd": "cat(var_dic_list()) "
    }
   },
   "types_to_exclude": [
    "module",
    "function",
    "builtin_function_or_method",
    "instance",
    "_Feature"
   ],
   "window_display": false
  }
 },
 "nbformat": 4,
 "nbformat_minor": 2
}
